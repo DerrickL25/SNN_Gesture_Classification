{
  "cells": [
    {
      "cell_type": "markdown",
      "metadata": {
        "id": "view-in-github",
        "colab_type": "text"
      },
      "source": [
        "<a href=\"https://colab.research.google.com/github/DerrickL25/SNN_Gesture_Classification/blob/main/SNN_Tutorial_Derrick_Lee.ipynb\" target=\"_parent\"><img src=\"https://colab.research.google.com/assets/colab-badge.svg\" alt=\"Open In Colab\"/></a>"
      ]
    },
    {
      "cell_type": "markdown",
      "metadata": {
        "id": "PGXE6HXOe2Jo"
      },
      "source": [
        "# What is an SNN?"
      ]
    },
    {
      "cell_type": "markdown",
      "metadata": {
        "id": "rkUNxc4ofDG2"
      },
      "source": [
        "An SNN (spiking neural network) is a variation of an ANN. While both types of networks are inspired by the brain, SNNs aim to take advantage of temporal data and mimic the intrinsically discrete nature of biological neurons. In contrast, neurons in ANNs output continuous activation values.\n",
        "\\\n",
        "SNNs remain a rich research topic, and their applications in the real world are diversifying.\n",
        "\\\n",
        "\\\n",
        "**Key Differences:**\n",
        "\n",
        "ANN:\n",
        "- Neurons take weighted the sum of activation values from previous layer and sends the result into an activation function (most commonly ReLU), returning a new activation value.\n",
        "- The weighted sum operation is computationally expensive and does not scale well with large network architectures.\n",
        "\n",
        "SNN:\n",
        "- Temporal data is fed into the network, creating bursts of activity known as spikes. Neurons fire these spikes when an accumulation function's threshold is met from input activity. These spikes are propagated through the network and reach the output layer like an ANN.\n",
        "- As neurons can only be 0 or 1, representing their polarity, most tensors propagating through a network are sparse, minimizing the need to perform multiplication, thus greatly reducing the cost of weighted sums.\n",
        "- Training is more complex, as traditional optimization using backpropagation of the gradient does not work due to the non-differentiable nature of spikes, as they are naturally represented as step functions.\n",
        "\n"
      ]
    },
    {
      "cell_type": "code",
      "source": [],
      "metadata": {
        "id": "c6sHt_G2k8Ap"
      },
      "execution_count": null,
      "outputs": []
    },
    {
      "cell_type": "markdown",
      "source": [
        "\n",
        "## Introduction\n",
        "In this tutorial you will learn how to:\n",
        "\n",
        "* Train a spiking convolutional SNN,\n",
        "* Construct a dataloader using Tonic\n",
        "* To train a model on the [DVS Gesture Dataset](https://research.ibm.com/interactive/dvsgesture/)"
      ],
      "metadata": {
        "id": "AEIyFscwk9Cx"
      }
    },
    {
      "cell_type": "markdown",
      "metadata": {
        "id": "APcxgTl-ADbI"
      },
      "source": [
        "# Dataset"
      ]
    },
    {
      "cell_type": "markdown",
      "metadata": {
        "id": "T-KcsehPANDP"
      },
      "source": [
        "I will be using the DVSGesture dataset from IBM to demonstrate the functionality of an SNN.\n",
        "\\\n",
        "This dataset is comprised of 11 classes, where each corresponds to a hand gesture, like waving or clapping. All events were recorded on a DVS128 camera, which is a vision sensor that captures changes in the environment (events), represented by illuminated pixels, while static backdrops are ignored or produce little noise.\n"
      ]
    },
    {
      "cell_type": "code",
      "execution_count": null,
      "metadata": {
        "id": "KJAF2tZPvPMk"
      },
      "outputs": [],
      "source": [
        "!pip install tonic --quiet\n",
        "!pip install snntorch --quiet"
      ]
    },
    {
      "cell_type": "markdown",
      "metadata": {
        "id": "L9ALJIrHL7AW"
      },
      "source": [
        "Loading the dataset with Tonic"
      ]
    },
    {
      "cell_type": "code",
      "execution_count": null,
      "metadata": {
        "colab": {
          "base_uri": "https://localhost:8080/"
        },
        "id": "peDXjxJUwEVX",
        "outputId": "01a0be65-b06e-4450-8971-452f5df776f0"
      },
      "outputs": [
        {
          "output_type": "stream",
          "name": "stdout",
          "text": [
            "Dataset contains  1077  samples.\n",
            "There are  519177  events in the first sample.\n",
            "A single event:  (60, 51, False, 2)\n"
          ]
        }
      ],
      "source": [
        "import tonic\n",
        "\n",
        "dataset = tonic.datasets.DVSGesture(save_to='./data', train=True)\n",
        "events, label = dataset[0]\n",
        "\n",
        "# Dataset size\n",
        "print(\"Dataset contains \", len(dataset), \" samples.\")\n",
        "\n",
        "# Number of events in the first sample\n",
        "print(\"There are \", len(events), \" events in the first sample.\")\n",
        "\n",
        "# (x-pos, y-pos, polarity, timestamp)\n",
        "print(\"A single event: \", events[0])"
      ]
    },
    {
      "cell_type": "markdown",
      "metadata": {
        "id": "ZSTk0p-HQUPk"
      },
      "source": [
        "Visualizing the Data"
      ]
    },
    {
      "cell_type": "code",
      "execution_count": null,
      "metadata": {
        "colab": {
          "base_uri": "https://localhost:8080/",
          "height": 217
        },
        "id": "tIUgiH4z52IC",
        "outputId": "f8245741-77a3-4d0b-de51-225747a43393"
      },
      "outputs": [
        {
          "output_type": "stream",
          "name": "stdout",
          "text": [
            "(519, 2, 128, 128)\n"
          ]
        },
        {
          "output_type": "execute_result",
          "data": {
            "text/plain": [
              "<matplotlib.image.AxesImage at 0x7ecd87781600>"
            ]
          },
          "metadata": {},
          "execution_count": 60
        },
        {
          "output_type": "display_data",
          "data": {
            "text/plain": [
              "<Figure size 640x480 with 3 Axes>"
            ],
            "image/png": "[encoded data removed]"
          },
          "metadata": {}
        }
      ],
      "source": [
        "# This is not necessary, but is cool to see\n",
        "# Converting 1000 event blocks into frames with tonic.transforms.ToFrame\n",
        "sensor_size = tonic.datasets.DVSGesture.sensor_size\n",
        "frame_transform = tonic.transforms.ToFrame(sensor_size=sensor_size, event_count=1000)\n",
        "\n",
        "# Applying the transform to the raw events array\n",
        "frames = frame_transform(events)\n",
        "\n",
        "# Shape of the frames object represents (num frames, polarity, width, height)\n",
        "print(frames.shape)\n",
        "\n",
        "# Plot some frames\n",
        "import matplotlib.pyplot as plt\n",
        "fig, ax = plt.subplots(1, 3)\n",
        "ax[0].axis('off')\n",
        "ax[1].axis('off')\n",
        "ax[2].axis('off')\n",
        "ax[0].imshow(frames[0][0])\n",
        "ax[1].imshow(frames[10][0])\n",
        "ax[2].imshow(frames[20][0])"
      ]
    },
    {
      "cell_type": "markdown",
      "metadata": {
        "id": "F2zffSFnmJaz"
      },
      "source": [
        "# Transforming the Raw Data"
      ]
    },
    {
      "cell_type": "markdown",
      "metadata": {
        "id": "EroKAOeGmXzx"
      },
      "source": [
        "A neural network takes in a tensor as input, so the event array must be transformed into a suitable format.\n",
        "\\\n",
        "The following code bins events into 1ms groups and denoises each group, or frame. These transforms are then applied to the train and test sets before being passed into dataloaders, which efficiently preprocess the data before passing it into the network."
      ]
    },
    {
      "cell_type": "code",
      "execution_count": null,
      "metadata": {
        "colab": {
          "base_uri": "https://localhost:8080/",
          "height": 458
        },
        "id": "RPRswuWZ2tr4",
        "outputId": "28120423-f731-4cdb-9576-1f614682fb61"
      },
      "outputs": [
        {
          "output_type": "stream",
          "name": "stdout",
          "text": [
            "Shape of frames object:  (25, 2, 128, 128)\n",
            "1077\n",
            "264\n"
          ]
        },
        {
          "output_type": "display_data",
          "data": {
            "text/plain": [
              "<Figure size 640x480 with 1 Axes>"
            ],
            "image/png": "[encoded data removed]"
          },
          "metadata": {}
        }
      ],
      "source": [
        "import tonic.transforms as transforms\n",
        "\n",
        "size = tonic.datasets.DVSGesture.sensor_size\n",
        "\n",
        "# Denoise transform removes outlier events with inactive surrounding pixels for 10ms\n",
        "denoise_transform = transforms.Denoise(filter_time=10000)\n",
        "\n",
        "# ToFrame transform bins events into 25 clusters of frames\n",
        "frame_transform = transforms.ToFrame(sensor_size=size, n_time_bins=25)\n",
        "\n",
        "# Chain the transforms\n",
        "all_transform = transforms.Compose([denoise_transform, frame_transform])\n",
        "\n",
        "# View the transformed data\n",
        "tf_frames = all_transform(events)\n",
        "print(\"Shape of frames object: \", tf_frames.shape)\n",
        "plt.axis('off')\n",
        "plt.imshow(tf_frames[0][0])\n",
        "\n",
        "train_set = tonic.datasets.DVSGesture(save_to='./data', transform=all_transform, train=True)\n",
        "test_set = tonic.datasets.DVSGesture(save_to='./data', transform=all_transform, train=False)\n",
        "print(len(train_set))\n",
        "print(len(test_set))"
      ]
    },
    {
      "cell_type": "markdown",
      "metadata": {
        "id": "elh6NQrnpwFl"
      },
      "source": [
        "Caching and Dataloaders:\n",
        "- To optimize and expedite the training process, caching and dataloaders are helpful.\n",
        "- A dataloader efficiently prepares data for iteration through shuffling, batch size processing, etc.\n",
        "- Caching the dataset makes iterating through the dataloader much faster, as samples are read from the cache rather than from the disk."
      ]
    },
    {
      "cell_type": "code",
      "execution_count": null,
      "metadata": {
        "id": "LIZvmu6RgUuT",
        "colab": {
          "base_uri": "https://localhost:8080/"
        },
        "outputId": "4e019fd0-5b14-4ff8-92ac-144cd333e990"
      },
      "outputs": [
        {
          "output_type": "stream",
          "name": "stdout",
          "text": [
            "Shape of sample object:  torch.Size([25, 64, 2, 128, 128])\n"
          ]
        }
      ],
      "source": [
        "import torch\n",
        "import torchvision\n",
        "\n",
        "cached_trainset = tonic.DiskCachedDataset(train_set, cache_path='./cache/dvsgesture/train')\n",
        "cached_testset = tonic.DiskCachedDataset(test_set, cache_path='./cache/dvsgesture/test')\n",
        "\n",
        "# Create DataLoaders\n",
        "train_loader = torch.utils.data.DataLoader(cached_trainset, batch_size=64, shuffle=True, drop_last=True, collate_fn=tonic.collation.PadTensors(batch_first=False))\n",
        "test_loader = torch.utils.data.DataLoader(cached_testset, batch_size=32, shuffle=True, drop_last=True, collate_fn=tonic.collation.PadTensors(batch_first=False))\n",
        "\n",
        "# Visualize shape of sample in dataloader (similar to frames object above, but 2nd element is batch size)\n",
        "for sample in iter(train_loader):\n",
        "  print(\"Shape of sample object: \", sample[0].shape)\n",
        "  break"
      ]
    },
    {
      "cell_type": "markdown",
      "metadata": {
        "id": "b08XtlkJeUAO"
      },
      "source": [
        "# Building the Network"
      ]
    },
    {
      "cell_type": "markdown",
      "metadata": {
        "id": "ilBQ1RCCW5oZ"
      },
      "source": [
        "The network will be fairly simple; 2 convolution layers with 5 filters each, followed by a fully connected layer."
      ]
    },
    {
      "cell_type": "code",
      "execution_count": null,
      "metadata": {
        "id": "cMT7KY2d301F"
      },
      "outputs": [],
      "source": [
        "device = torch.device(\"cuda\") if torch.cuda.is_available() else torch.device(\"cpu\")"
      ]
    },
    {
      "cell_type": "code",
      "execution_count": null,
      "metadata": {
        "id": "gER34K3keS7i"
      },
      "outputs": [],
      "source": [
        "import snntorch as snn\n",
        "from snntorch import surrogate\n",
        "from snntorch import functional as SF\n",
        "from snntorch import utils\n",
        "import torch.nn as nn"
      ]
    },
    {
      "cell_type": "code",
      "execution_count": null,
      "metadata": {
        "id": "7TBtMTdLfy-P"
      },
      "outputs": [],
      "source": [
        "# Network parameters\n",
        "gradient = surrogate.fast_sigmoid(slope=25)\n",
        "beta = 0.5\n",
        "\n",
        "# Initializing the network\n",
        "net = nn.Sequential(nn.Conv2d(2, 12, 5),\n",
        "                    nn.MaxPool2d(2),\n",
        "                    snn.Leaky(beta=beta, spike_grad=gradient, init_hidden=True),\n",
        "                    nn.Conv2d(12, 32, 5),\n",
        "                    nn.MaxPool2d(2),\n",
        "                    snn.Leaky(beta=beta, spike_grad=gradient, init_hidden=True),\n",
        "                    nn.Flatten(),\n",
        "                    nn.Linear(800, 11),\n",
        "                    snn.Leaky(beta=beta, spike_grad=gradient, init_hidden=True, output=True)\n",
        "                    ).to(device)\n",
        "\n"
      ]
    },
    {
      "cell_type": "markdown",
      "source": [
        "**Forward Propagation:**\n",
        "\n",
        "Since the samples can be interpreted as a short video of 25 frames, a custom forward propagation function helps feed each frame, or cluster of events, into the network one at a time.\n",
        "\n",
        "- In this case, data.size(0) == 25.\n",
        "\n",
        "A single forward pass returns a tensor representing the spiking activity from one sample (or batch if batch size > 1).\n",
        "\n",
        "This should be of size (frame count, batch size, num classes), or (25, 64, 11)."
      ],
      "metadata": {
        "id": "kwOY2WJ0da_z"
      }
    },
    {
      "cell_type": "code",
      "source": [
        "# Defining a forward propagation function\n",
        "def forward_pass(net, data):\n",
        "  spk_rec = []\n",
        "  snn.utils.reset(net)\n",
        "  for step in range(data.size(0)):\n",
        "      spk_out, mem_out = net(data[step])\n",
        "      spk_rec.append(spk_out)\n",
        "  return torch.stack(spk_rec)"
      ],
      "metadata": {
        "id": "rOoGQW6Wdbwr"
      },
      "execution_count": null,
      "outputs": []
    },
    {
      "cell_type": "markdown",
      "source": [
        "Adam dynamically adjusts the learning rate and is a great general use optimizer for training NNs"
      ],
      "metadata": {
        "id": "fWREbI5UiaY_"
      }
    },
    {
      "cell_type": "code",
      "execution_count": null,
      "metadata": {
        "id": "CpiF5fUl3d-B"
      },
      "outputs": [],
      "source": [
        "optimizer = torch.optim.Adam(net.parameters(), lr=0.002, betas=(0.9, 0.999))\n",
        "loss_fn = SF.mse_count_loss(correct_rate=0.8, incorrect_rate=0.2)"
      ]
    },
    {
      "cell_type": "markdown",
      "metadata": {
        "id": "C0adurQH-bw3"
      },
      "source": [
        "# Training"
      ]
    },
    {
      "cell_type": "markdown",
      "source": [
        "Note: Dataloading will be slow for the first (num samples/batch size) training steps due to first time loading into the cache"
      ],
      "metadata": {
        "id": "UdgXx_9VXp74"
      }
    },
    {
      "cell_type": "code",
      "execution_count": null,
      "metadata": {
        "colab": {
          "base_uri": "https://localhost:8080/"
        },
        "id": "_2T7HO4m3eXL",
        "outputId": "0674eddb-1c83-4e4a-d83a-e90abef2c8ab"
      },
      "outputs": [
        {
          "output_type": "stream",
          "name": "stdout",
          "text": [
            "Epoch 0, Iteration 0 \n",
            "Train Loss: 2.36\n",
            "Train Accuracy: 6.25%\n",
            "\n",
            "========== Test Set Accuracy: 8.98% ==========\n",
            "\n",
            "Epoch 1, Iteration 0 \n",
            "Train Loss: 1.37\n",
            "Train Accuracy: 39.06%\n",
            "\n",
            "========== Test Set Accuracy: 35.16% ==========\n",
            "\n",
            "Epoch 2, Iteration 0 \n",
            "Train Loss: 0.95\n",
            "Train Accuracy: 54.69%\n",
            "\n",
            "========== Test Set Accuracy: 56.25% ==========\n",
            "\n",
            "Epoch 3, Iteration 0 \n",
            "Train Loss: 0.71\n",
            "Train Accuracy: 59.38%\n",
            "\n",
            "========== Test Set Accuracy: 60.16% ==========\n",
            "\n",
            "Epoch 4, Iteration 0 \n",
            "Train Loss: 0.66\n",
            "Train Accuracy: 56.25%\n",
            "\n",
            "========== Test Set Accuracy: 62.89% ==========\n",
            "\n",
            "Epoch 5, Iteration 0 \n",
            "Train Loss: 0.56\n",
            "Train Accuracy: 67.19%\n",
            "\n",
            "========== Test Set Accuracy: 58.59% ==========\n",
            "\n",
            "Epoch 6, Iteration 0 \n",
            "Train Loss: 0.56\n",
            "Train Accuracy: 67.19%\n",
            "\n",
            "========== Test Set Accuracy: 59.77% ==========\n",
            "\n",
            "Epoch 7, Iteration 0 \n",
            "Train Loss: 0.55\n",
            "Train Accuracy: 62.50%\n",
            "\n",
            "========== Test Set Accuracy: 61.72% ==========\n",
            "\n",
            "Epoch 8, Iteration 0 \n",
            "Train Loss: 0.43\n",
            "Train Accuracy: 76.56%\n",
            "\n",
            "========== Test Set Accuracy: 62.50% ==========\n",
            "\n",
            "Epoch 9, Iteration 0 \n",
            "Train Loss: 0.44\n",
            "Train Accuracy: 79.69%\n",
            "\n",
            "========== Test Set Accuracy: 66.02% ==========\n",
            "\n",
            "Epoch 10, Iteration 0 \n",
            "Train Loss: 0.43\n",
            "Train Accuracy: 71.88%\n",
            "\n",
            "========== Test Set Accuracy: 67.58% ==========\n",
            "\n",
            "Epoch 11, Iteration 0 \n",
            "Train Loss: 0.35\n",
            "Train Accuracy: 82.81%\n",
            "\n",
            "========== Test Set Accuracy: 67.19% ==========\n",
            "\n",
            "Epoch 12, Iteration 0 \n",
            "Train Loss: 0.33\n",
            "Train Accuracy: 82.81%\n",
            "\n",
            "========== Test Set Accuracy: 64.06% ==========\n",
            "\n",
            "Epoch 13, Iteration 0 \n",
            "Train Loss: 0.33\n",
            "Train Accuracy: 79.69%\n",
            "\n",
            "========== Test Set Accuracy: 69.53% ==========\n",
            "\n",
            "Epoch 14, Iteration 0 \n",
            "Train Loss: 0.39\n",
            "Train Accuracy: 73.44%\n",
            "\n",
            "========== Test Set Accuracy: 69.53% ==========\n",
            "\n",
            "Epoch 15, Iteration 0 \n",
            "Train Loss: 0.32\n",
            "Train Accuracy: 84.38%\n",
            "\n",
            "========== Test Set Accuracy: 70.70% ==========\n",
            "\n",
            "Epoch 16, Iteration 0 \n",
            "Train Loss: 0.32\n",
            "Train Accuracy: 85.94%\n",
            "\n",
            "========== Test Set Accuracy: 74.22% ==========\n",
            "\n",
            "Epoch 17, Iteration 0 \n",
            "Train Loss: 0.36\n",
            "Train Accuracy: 73.44%\n",
            "\n",
            "========== Test Set Accuracy: 70.70% ==========\n",
            "\n",
            "Epoch 18, Iteration 0 \n",
            "Train Loss: 0.32\n",
            "Train Accuracy: 90.62%\n",
            "\n",
            "========== Test Set Accuracy: 71.48% ==========\n",
            "\n",
            "Epoch 19, Iteration 0 \n",
            "Train Loss: 0.33\n",
            "Train Accuracy: 87.50%\n",
            "\n",
            "========== Test Set Accuracy: 74.61% ==========\n",
            "\n",
            "Epoch 20, Iteration 0 \n",
            "Train Loss: 0.31\n",
            "Train Accuracy: 82.81%\n",
            "\n",
            "========== Test Set Accuracy: 73.83% ==========\n",
            "\n",
            "Epoch 21, Iteration 0 \n",
            "Train Loss: 0.28\n",
            "Train Accuracy: 89.06%\n",
            "\n",
            "========== Test Set Accuracy: 73.83% ==========\n",
            "\n",
            "Epoch 22, Iteration 0 \n",
            "Train Loss: 0.30\n",
            "Train Accuracy: 90.62%\n",
            "\n",
            "========== Test Set Accuracy: 76.17% ==========\n",
            "\n",
            "Epoch 23, Iteration 0 \n",
            "Train Loss: 0.33\n",
            "Train Accuracy: 87.50%\n",
            "\n",
            "========== Test Set Accuracy: 74.22% ==========\n",
            "\n",
            "Epoch 24, Iteration 0 \n",
            "Train Loss: 0.31\n",
            "Train Accuracy: 85.94%\n",
            "\n",
            "========== Test Set Accuracy: 77.34% ==========\n",
            "\n",
            "Epoch 25, Iteration 0 \n",
            "Train Loss: 0.32\n",
            "Train Accuracy: 84.38%\n",
            "\n",
            "========== Test Set Accuracy: 78.52% ==========\n",
            "\n",
            "Epoch 26, Iteration 0 \n",
            "Train Loss: 0.29\n",
            "Train Accuracy: 90.62%\n",
            "\n",
            "========== Test Set Accuracy: 79.69% ==========\n",
            "\n",
            "Epoch 27, Iteration 0 \n",
            "Train Loss: 0.28\n",
            "Train Accuracy: 90.62%\n",
            "\n",
            "========== Test Set Accuracy: 76.17% ==========\n",
            "\n",
            "Epoch 28, Iteration 0 \n",
            "Train Loss: 0.26\n",
            "Train Accuracy: 93.75%\n",
            "\n",
            "========== Test Set Accuracy: 78.52% ==========\n",
            "\n",
            "Epoch 29, Iteration 0 \n",
            "Train Loss: 0.28\n",
            "Train Accuracy: 90.62%\n",
            "\n",
            "========== Test Set Accuracy: 80.47% ==========\n",
            "\n",
            "Epoch 30, Iteration 0 \n",
            "Train Loss: 0.27\n",
            "Train Accuracy: 95.31%\n",
            "\n",
            "========== Test Set Accuracy: 77.73% ==========\n",
            "\n",
            "Epoch 31, Iteration 0 \n",
            "Train Loss: 0.25\n",
            "Train Accuracy: 93.75%\n",
            "\n",
            "========== Test Set Accuracy: 82.42% ==========\n",
            "\n",
            "Epoch 32, Iteration 0 \n",
            "Train Loss: 0.24\n",
            "Train Accuracy: 90.62%\n",
            "\n",
            "========== Test Set Accuracy: 83.59% ==========\n",
            "\n",
            "Epoch 33, Iteration 0 \n",
            "Train Loss: 0.24\n",
            "Train Accuracy: 95.31%\n",
            "\n",
            "========== Test Set Accuracy: 82.42% ==========\n",
            "\n",
            "Epoch 34, Iteration 0 \n",
            "Train Loss: 0.23\n",
            "Train Accuracy: 93.75%\n",
            "\n",
            "========== Test Set Accuracy: 81.64% ==========\n",
            "\n",
            "Epoch 35, Iteration 0 \n",
            "Train Loss: 0.25\n",
            "Train Accuracy: 90.62%\n",
            "\n",
            "========== Test Set Accuracy: 82.03% ==========\n",
            "\n",
            "Epoch 36, Iteration 0 \n",
            "Train Loss: 0.21\n",
            "Train Accuracy: 93.75%\n",
            "\n",
            "========== Test Set Accuracy: 83.20% ==========\n",
            "\n",
            "Epoch 37, Iteration 0 \n",
            "Train Loss: 0.24\n",
            "Train Accuracy: 98.44%\n",
            "\n",
            "========== Test Set Accuracy: 83.59% ==========\n",
            "\n",
            "Epoch 38, Iteration 0 \n",
            "Train Loss: 0.17\n",
            "Train Accuracy: 95.31%\n",
            "\n",
            "========== Test Set Accuracy: 85.16% ==========\n",
            "\n",
            "Epoch 39, Iteration 0 \n",
            "Train Loss: 0.20\n",
            "Train Accuracy: 96.88%\n",
            "\n",
            "========== Test Set Accuracy: 85.55% ==========\n",
            "\n",
            "Epoch 40, Iteration 0 \n",
            "Train Loss: 0.21\n",
            "Train Accuracy: 96.88%\n",
            "\n",
            "========== Test Set Accuracy: 85.94% ==========\n",
            "\n",
            "Epoch 41, Iteration 0 \n",
            "Train Loss: 0.19\n",
            "Train Accuracy: 95.31%\n",
            "\n",
            "========== Test Set Accuracy: 87.11% ==========\n",
            "\n",
            "Epoch 42, Iteration 0 \n",
            "Train Loss: 0.19\n",
            "Train Accuracy: 96.88%\n",
            "\n",
            "========== Test Set Accuracy: 84.77% ==========\n",
            "\n",
            "Epoch 43, Iteration 0 \n",
            "Train Loss: 0.22\n",
            "Train Accuracy: 98.44%\n",
            "\n",
            "========== Test Set Accuracy: 85.55% ==========\n",
            "\n",
            "Epoch 44, Iteration 0 \n",
            "Train Loss: 0.18\n",
            "Train Accuracy: 100.00%\n",
            "\n",
            "========== Test Set Accuracy: 86.33% ==========\n",
            "\n",
            "Epoch 45, Iteration 0 \n",
            "Train Loss: 0.15\n",
            "Train Accuracy: 98.44%\n",
            "\n",
            "========== Test Set Accuracy: 86.72% ==========\n",
            "\n",
            "Epoch 46, Iteration 0 \n",
            "Train Loss: 0.14\n",
            "Train Accuracy: 98.44%\n",
            "\n",
            "========== Test Set Accuracy: 87.11% ==========\n",
            "\n",
            "Epoch 47, Iteration 0 \n",
            "Train Loss: 0.16\n",
            "Train Accuracy: 96.88%\n",
            "\n",
            "========== Test Set Accuracy: 87.11% ==========\n",
            "\n",
            "Epoch 48, Iteration 0 \n",
            "Train Loss: 0.15\n",
            "Train Accuracy: 100.00%\n",
            "\n",
            "========== Test Set Accuracy: 85.94% ==========\n",
            "\n",
            "Epoch 49, Iteration 0 \n",
            "Train Loss: 0.16\n",
            "Train Accuracy: 96.88%\n",
            "\n",
            "========== Test Set Accuracy: 86.33% ==========\n",
            "\n"
          ]
        }
      ],
      "source": [
        "# 50 epochs; counter just used for test set validation\n",
        "num_epochs = 50\n",
        "counter = 0\n",
        "\n",
        "loss_hist = []\n",
        "acc_hist = []\n",
        "test_acc_hist = []\n",
        "\n",
        "# Training loop\n",
        "for epoch in range(num_epochs):\n",
        "    for i, (data, targets) in enumerate(iter(train_loader)):\n",
        "        # Downsampling image from (128 x 128) to (32 x 32)\n",
        "        data = nn.functional.interpolate(data, size=(2, 32, 32))\n",
        "        data = data.to(device)\n",
        "        targets = targets.to(device)\n",
        "\n",
        "        net.train()\n",
        "        # propagating one batch through the network and evaluating loss\n",
        "        spk_rec = forward_pass(net, data)\n",
        "        loss_val = loss_fn(spk_rec, targets)\n",
        "\n",
        "        # Gradient calculation + weight update\n",
        "        optimizer.zero_grad()\n",
        "        loss_val.backward()\n",
        "        optimizer.step()\n",
        "\n",
        "        # Store loss history for future plotting\n",
        "        loss_hist.append(loss_val.item())\n",
        "\n",
        "        acc = SF.accuracy_rate(spk_rec, targets)\n",
        "        acc_hist.append(acc)\n",
        "\n",
        "        # evaluate test set accuracy per 20 training steps\n",
        "        if counter % 16 == 0:\n",
        "          print(f\"Epoch {epoch}, Iteration {i} \\nTrain Loss: {loss_val.item():.2f}\")\n",
        "          print(f\"Train Accuracy: {acc * 100:.2f}%\\n\")\n",
        "\n",
        "          correct = 0\n",
        "          total = 0\n",
        "\n",
        "          for i, (data, targets) in enumerate(iter(test_loader)):\n",
        "            data = nn.functional.interpolate(data, size=(2, 32, 32))\n",
        "            data = data.to(device)\n",
        "            targets = targets.to(device)\n",
        "            spk_rec = forward_pass(net, data)\n",
        "            correct += SF.accuracy_rate(spk_rec, targets) * spk_rec.size(1)\n",
        "            total += spk_rec.size(1)\n",
        "\n",
        "          test_acc = (correct/total) * 100\n",
        "          test_acc_hist.append(test_acc)\n",
        "          print(f\"========== Test Set Accuracy: {test_acc:.2f}% ==========\\n\")\n",
        "\n",
        "        counter += 1"
      ]
    },
    {
      "cell_type": "markdown",
      "metadata": {
        "id": "S0_GFlUe-vax"
      },
      "source": [
        "Plotting the accuracy on the training set, loss, and test set accuracy can help visualize how well the model is performing.\n",
        "As we can see from the plots below, loss is converging and train/test accuracy is plateauing accordingly."
      ]
    },
    {
      "cell_type": "code",
      "execution_count": null,
      "metadata": {
        "colab": {
          "base_uri": "https://localhost:8080/",
          "height": 295
        },
        "id": "JnYIf5CKKYzq",
        "outputId": "db0b3c6e-b65d-4fdf-acc7-1eccbdd9a7af"
      },
      "outputs": [
        {
          "output_type": "display_data",
          "data": {
            "text/plain": [
              "<Figure size 1800x400 with 3 Axes>"
            ],
            "image/png": "[encoded data removed]"
          },
          "metadata": {}
        }
      ],
      "source": [
        "import matplotlib.pyplot as plt\n",
        "fig, axes = plt.subplots(1, 3, figsize=(18,4))\n",
        "\n",
        "# Plot Train Accuracy\n",
        "axes[0].plot(acc_hist)\n",
        "axes[0].set_title(\"Train Set Accuracy\")\n",
        "axes[0].set_xlabel(\"Iteration\")\n",
        "axes[0].set_ylabel(\"Accuracy\")\n",
        "\n",
        "# Plot Test Accuracy\n",
        "axes[1].plot(test_acc_hist)\n",
        "axes[1].set_title(\"Test Set Accuracy\")\n",
        "axes[1].set_xlabel(\"Iteration\")\n",
        "axes[1].set_ylabel(\"Accuracy\")\n",
        "\n",
        "# Plot Training Loss\n",
        "axes[2].plot(loss_hist)\n",
        "axes[2].set_title(\"Loss History\")\n",
        "axes[2].set_xlabel(\"Iteration\")\n",
        "axes[2].set_ylabel(\"Loss\")\n",
        "\n",
        "plt.show()"
      ]
    },
    {
      "cell_type": "code",
      "execution_count": null,
      "metadata": {
        "colab": {
          "base_uri": "https://localhost:8080/"
        },
        "id": "Nj7skndR0I8m",
        "outputId": "aaacf807-8cae-4b81-c7db-1881161cbd70"
      },
      "outputs": [
        {
          "output_type": "stream",
          "name": "stdout",
          "text": [
            "Test Set Accuracy:  86.328125 %\n"
          ]
        }
      ],
      "source": [
        "# Evaluate Test Set Accuracy\n",
        "correct = 0\n",
        "total = 0\n",
        "\n",
        "for i, (data, targets) in enumerate(iter(test_loader)):\n",
        "  data = nn.functional.interpolate(data, size=(2, 32, 32))\n",
        "  data = data.to(device)\n",
        "  targets = targets.to(device)\n",
        "  spk_rec = forward_pass(net, data)\n",
        "  correct += SF.accuracy_rate(spk_rec, targets) * spk_rec.size(1)\n",
        "  total += spk_rec.size(1)\n",
        "\n",
        "print(\"Test Set Accuracy: \", (correct/total) * 100, \"%\")"
      ]
    }
  ],
  "metadata": {
    "accelerator": "GPU",
    "colab": {
      "provenance": [],
      "include_colab_link": true
    },
    "kernelspec": {
      "display_name": "Python 3",
      "name": "python3"
    },
    "language_info": {
      "name": "python"
    }
  },
  "nbformat": 4,
  "nbformat_minor": 0
}